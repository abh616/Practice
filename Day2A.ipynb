{
  "nbformat": 4,
  "nbformat_minor": 0,
  "metadata": {
    "colab": {
      "provenance": [],
      "authorship_tag": "ABX9TyMFiQOSUM5GlD44EHlvJ3Cp",
      "include_colab_link": true
    },
    "kernelspec": {
      "name": "python3",
      "display_name": "Python 3"
    },
    "language_info": {
      "name": "python"
    }
  },
  "cells": [
    {
      "cell_type": "markdown",
      "metadata": {
        "id": "view-in-github",
        "colab_type": "text"
      },
      "source": [
        "<a href=\"https://colab.research.google.com/github/abh616/Practice/blob/main/Day2A.ipynb\" target=\"_parent\"><img src=\"https://colab.research.google.com/assets/colab-badge.svg\" alt=\"Open In Colab\"/></a>"
      ]
    },
    {
      "cell_type": "code",
      "execution_count": 7,
      "metadata": {
        "colab": {
          "base_uri": "https://localhost:8080/"
        },
        "id": "4-jByAlycL-x",
        "outputId": "34e5b73a-09d9-4aa6-a4a5-d5c8788c5f99"
      },
      "outputs": [
        {
          "output_type": "stream",
          "name": "stdout",
          "text": [
            "Element at index 2 is Abhi\n",
            "Element at index -2 is 90\n",
            "{'Name': 'Abhi', 'Roll': '665', 'Phone': '1234567890', 'Address': 'XYZ', 'State': 'Telangana'}\n"
          ]
        }
      ],
      "source": [
        "a=[1,3.14,\"Abhi\",True,63,2.4]\n",
        "b=(2,8.9,\"NLP\",False,90,8.5)\n",
        "c={\"Name\":\"Abhi\", \"Roll\":\"665\", \"Phone\":\"1234567890\", \"Address\":\"XYZ\", \"State\":\"Telangana\"}\n",
        "\n",
        "print(\"Element at index 2 is\" ,a[2])\n",
        "print(\"Element at index -2 is\", b[-2])\n",
        "print(c)\n"
      ]
    }
  ]
}