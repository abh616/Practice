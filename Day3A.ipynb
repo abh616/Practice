{
  "nbformat": 4,
  "nbformat_minor": 0,
  "metadata": {
    "colab": {
      "provenance": [],
      "authorship_tag": "ABX9TyOmGZ2QjpI1ZxLMyJMkor9k",
      "include_colab_link": true
    },
    "kernelspec": {
      "name": "python3",
      "display_name": "Python 3"
    },
    "language_info": {
      "name": "python"
    }
  },
  "cells": [
    {
      "cell_type": "markdown",
      "metadata": {
        "id": "view-in-github",
        "colab_type": "text"
      },
      "source": [
        "<a href=\"https://colab.research.google.com/github/abh616/Practice/blob/main/Day3A.ipynb\" target=\"_parent\"><img src=\"https://colab.research.google.com/assets/colab-badge.svg\" alt=\"Open In Colab\"/></a>"
      ]
    },
    {
      "cell_type": "code",
      "execution_count": 4,
      "metadata": {
        "colab": {
          "base_uri": "https://localhost:8080/"
        },
        "id": "PSs_7wFUgqMA",
        "outputId": "1245c660-f6f6-4393-c693-5220757f4160"
      },
      "outputs": [
        {
          "output_type": "stream",
          "name": "stdout",
          "text": [
            "enter the first subject marks:80\n",
            "enter the second subject marks:80\n",
            "enter the third subject marks:80\n",
            "the average marks is: 80.0\n",
            "Grade: B\n"
          ]
        }
      ],
      "source": [
        "a=int(input(\"enter the first subject marks:\"))\n",
        "b=int(input(\"enter the second subject marks:\"))\n",
        "c=int(input(\"enter the third subject marks:\"))\n",
        "average=(a+b+c)/3\n",
        "print(\"the average marks is:\",average)\n",
        "if average>=90:\n",
        "    print(\"Grade: A\")\n",
        "elif 80<=average<=89:\n",
        "    print(\"Grade: B\")\n",
        "elif 70<=average<=79:\n",
        "    print(\"Grade:8 C\")\n",
        "else:\n",
        "    print(\"Grade: Fail\")\n"
      ]
    }
  ]
}