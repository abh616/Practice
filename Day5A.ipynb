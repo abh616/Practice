{
  "nbformat": 4,
  "nbformat_minor": 0,
  "metadata": {
    "colab": {
      "provenance": [],
      "authorship_tag": "ABX9TyOoBKL0gv4Ld+9isQyYRtxF",
      "include_colab_link": true
    },
    "kernelspec": {
      "name": "python3",
      "display_name": "Python 3"
    },
    "language_info": {
      "name": "python"
    }
  },
  "cells": [
    {
      "cell_type": "markdown",
      "metadata": {
        "id": "view-in-github",
        "colab_type": "text"
      },
      "source": [
        "<a href=\"https://colab.research.google.com/github/abh616/Practice/blob/main/Day5A.ipynb\" target=\"_parent\"><img src=\"https://colab.research.google.com/assets/colab-badge.svg\" alt=\"Open In Colab\"/></a>"
      ]
    },
    {
      "cell_type": "code",
      "execution_count": 7,
      "metadata": {
        "colab": {
          "base_uri": "https://localhost:8080/"
        },
        "id": "scOVEznqD2rO",
        "outputId": "b03b74f3-2ebe-418d-ca8f-f945e3f39e50"
      },
      "outputs": [
        {
          "output_type": "stream",
          "name": "stdout",
          "text": [
            "Enter limit: 15\n",
            "Sum of even numbers until 15 is 56\n"
          ]
        }
      ],
      "source": [
        "def sum_even():\n",
        "  num=int(input(\"Enter limit: \"))\n",
        "  sum=0\n",
        "  for i in range (0,num+1):\n",
        "    if i%2==0:\n",
        "      sum=sum+i\n",
        "  print(\"Sum of even numbers until\",num ,\"is\",sum)\n",
        "sum_even()\n"
      ]
    }
  ]
}